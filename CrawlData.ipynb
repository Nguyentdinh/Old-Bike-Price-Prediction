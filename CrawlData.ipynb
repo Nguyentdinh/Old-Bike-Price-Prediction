{
 "cells": [
  {
   "cell_type": "code",
   "execution_count": 37,
   "metadata": {},
   "outputs": [],
   "source": [
    "from selenium import webdriver\n",
    "from selenium.webdriver.common.by import By\n",
    "import pickle\n",
    "\n",
    "\n",
    "class PickleableLink:\n",
    "    def __init__(self, link_data):\n",
    "        self.picklable_data = link_data\n",
    "        \n",
    "linkList = []\n",
    "\n",
    "driver=webdriver.Chrome()\n",
    "for i in range(1,3):\n",
    "    driver.get(f\"https://www.chotot.com/mua-ban-dien-thoai-ha-noi?page={i}\")\n",
    "    links_raw = driver.find_elements(By.CLASS_NAME, \"AdItem_adItem__gDDQT\")\n",
    "    for link in links_raw:\n",
    "        http = link.get_attribute('href')\n",
    "        pickleable_link = PickleableLink(http)\n",
    "        linkList.append(pickleable_link)\n",
    "\n",
    "\n",
    "with open(\"test\", \"wb\") as fp:   #Pickling\n",
    "    pickle.dump(linkList, fp)"
   ]
  },
  {
   "cell_type": "code",
   "execution_count": 38,
   "metadata": {},
   "outputs": [],
   "source": [
    "import pickle\n",
    "\n",
    "clean_list = []\n",
    "\n",
    "class PickleableLink:\n",
    "    def __init__(self, link_data):\n",
    "        self.picklable_data = link_data\n",
    "\n",
    "# Unpickle the data\n",
    "with open(\"test\", \"rb\") as fp:\n",
    "    link_list = pickle.load(fp)\n",
    "\n",
    "# Extract and print the URLs\n",
    "for link_object in link_list:\n",
    "    url = link_object.picklable_data\n",
    "    modified_url = url.rstrip(']')\n",
    "    clean_list.append(modified_url)\n",
    "\n",
    "with open(\"clean_url\", \"wb\") as fp:   #Pickling\n",
    "    pickle.dump(clean_list, fp)"
   ]
  },
  {
   "cell_type": "code",
   "execution_count": 39,
   "metadata": {},
   "outputs": [],
   "source": [
    "import json\n",
    "\n",
    "class PickleableLink:\n",
    "    def __init__(self, link_data):\n",
    "        self.picklable_data = link_data\n",
    "\n",
    "class CustomEncoder(json.JSONEncoder):\n",
    "    def default(self, obj):\n",
    "        if isinstance(obj, PickleableLink):\n",
    "            return {'picklable_data': obj.picklable_data}\n",
    "        return super().default(obj)\n",
    "\n",
    "# Unpickle the data\n",
    "with open(\"clean_url\", \"rb\") as fp:\n",
    "    link_list = pickle.load(fp)\n",
    "\n",
    "# Serialize to JSON with the custom encoder\n",
    "json_data = json.dumps(link_list, cls=CustomEncoder)\n",
    "\n",
    "# Save JSON to a file\n",
    "with open(\"cleaned_data.json\", \"w\") as json_file:\n",
    "    json_file.write(json_data)\n"
   ]
  },
  {
   "cell_type": "code",
   "execution_count": 42,
   "metadata": {},
   "outputs": [
    {
     "name": "stdout",
     "output_type": "stream",
     "text": [
      "['https://www.chotot.com/mua-ban-dien-thoai-quan-hoang-mai-ha-noi/87923204.htm#px=SR-stickyad-[PO-1][PL-top', 'https://www.chotot.com/mua-ban-dien-thoai-quan-hoang-mai-ha-noi/112697895.htm#px=SR-stickyad-[PO-2][PL-top', 'https://www.chotot.com/mua-ban-dien-thoai-quan-hoang-mai-ha-noi/96232134.htm#px=SR-stickyad-[PO-3][PL-top', 'https://www.chotot.com/mua-ban-dien-thoai-quan-nam-tu-liem-ha-noi/114400405.htm', 'https://www.chotot.com/mua-ban-dien-thoai-quan-hoang-mai-ha-noi/114400361.htm', 'https://www.chotot.com/mua-ban-dien-thoai-quan-dong-da-ha-noi/114400358.htm', 'https://www.chotot.com/mua-ban-dien-thoai-quan-thanh-xuan-ha-noi/98553501.htm', 'https://www.chotot.com/mua-ban-dien-thoai-quan-dong-da-ha-noi/114299133.htm', 'https://www.chotot.com/mua-ban-dien-thoai-quan-hoan-kiem-ha-noi/114400257.htm', 'https://www.chotot.com/mua-ban-dien-thoai-quan-thanh-xuan-ha-noi/98553513.htm', 'https://www.chotot.com/mua-ban-dien-thoai-quan-long-bien-ha-noi/114400169.htm', 'https://www.chotot.com/mua-ban-dien-thoai-quan-thanh-xuan-ha-noi/114400155.htm', 'https://www.chotot.com/mua-ban-dien-thoai-huyen-gia-lam-ha-noi/114400033.htm', 'https://www.chotot.com/mua-ban-dien-thoai-quan-thanh-xuan-ha-noi/102063110.htm', 'https://www.chotot.com/mua-ban-dien-thoai-quan-ha-dong-ha-noi/114399949.htm', 'https://www.chotot.com/mua-ban-dien-thoai-quan-thanh-xuan-ha-noi/114399902.htm', 'https://www.chotot.com/mua-ban-dien-thoai-quan-nam-tu-liem-ha-noi/114399885.htm', 'https://www.chotot.com/mua-ban-dien-thoai-quan-cau-giay-ha-noi/114399846.htm', 'https://www.chotot.com/mua-ban-dien-thoai-quan-hoan-kiem-ha-noi/114399799.htm', 'https://www.chotot.com/mua-ban-dien-thoai-quan-thanh-xuan-ha-noi/109541421.htm', 'https://www.chotot.com/mua-ban-dien-thoai-quan-long-bien-ha-noi/114035724.htm', 'https://www.chotot.com/mua-ban-dien-thoai-quan-nam-tu-liem-ha-noi/114399675.htm', 'https://www.chotot.com/mua-ban-dien-thoai-quan-cau-giay-ha-noi/114399657.htm', 'https://www.chotot.com/mua-ban-dien-thoai-quan-hoang-mai-ha-noi/98443807.htm#px=SR-stickyad-[PO-1][PL-top', 'https://www.chotot.com/mua-ban-dien-thoai-quan-hoang-mai-ha-noi/104548017.htm#px=SR-stickyad-[PO-2][PL-top', 'https://www.chotot.com/mua-ban-dien-thoai-quan-ha-dong-ha-noi/114377614.htm#px=SR-stickyad-[PO-3][PL-top', 'https://www.chotot.com/mua-ban-dien-thoai-quan-dong-da-ha-noi/114399642.htm', 'https://www.chotot.com/mua-ban-dien-thoai-quan-thanh-xuan-ha-noi/114399595.htm', 'https://www.chotot.com/mua-ban-dien-thoai-quan-ba-dinh-ha-noi/114399540.htm', 'https://www.chotot.com/mua-ban-dien-thoai-quan-thanh-xuan-ha-noi/102063094.htm', 'https://www.chotot.com/mua-ban-dien-thoai-quan-hoang-mai-ha-noi/114399400.htm', 'https://www.chotot.com/mua-ban-dien-thoai-quan-thanh-xuan-ha-noi/114399365.htm', 'https://www.chotot.com/mua-ban-dien-thoai-quan-cau-giay-ha-noi/114399357.htm', 'https://www.chotot.com/mua-ban-dien-thoai-huyen-gia-lam-ha-noi/114399313.htm', 'https://www.chotot.com/mua-ban-dien-thoai-quan-dong-da-ha-noi/114308095.htm', 'https://www.chotot.com/mua-ban-dien-thoai-quan-cau-giay-ha-noi/114399087.htm', 'https://www.chotot.com/mua-ban-dien-thoai-quan-cau-giay-ha-noi/114399036.htm#px=SR-special_display_ad-[PO-11][PL-default', 'https://www.chotot.com/mua-ban-dien-thoai-quan-thanh-xuan-ha-noi/114399031.htm', 'https://www.chotot.com/mua-ban-dien-thoai-quan-dong-da-ha-noi/114221666.htm', 'https://www.chotot.com/mua-ban-dien-thoai-quan-nam-tu-liem-ha-noi/114399018.htm', 'https://www.chotot.com/mua-ban-dien-thoai-quan-bac-tu-liem-ha-noi/114003903.htm', 'https://www.chotot.com/mua-ban-dien-thoai-quan-nam-tu-liem-ha-noi/114398829.htm', 'https://www.chotot.com/mua-ban-dien-thoai-huyen-dan-phuong-ha-noi/114398726.htm', 'https://www.chotot.com/mua-ban-dien-thoai-quan-cau-giay-ha-noi/114398708.htm', 'https://www.chotot.com/mua-ban-dien-thoai-quan-thanh-xuan-ha-noi/114398608.htm', 'https://www.chotot.com/mua-ban-dien-thoai-quan-hoan-kiem-ha-noi/114398593.htm']\n"
     ]
    },
    {
     "name": "stderr",
     "output_type": "stream",
     "text": [
      "C:\\Users\\ACER\\AppData\\Local\\Temp/ipykernel_24008/457585659.py:76: FutureWarning: The frame.append method is deprecated and will be removed from pandas in a future version. Use pandas.concat instead.\n",
      "  df = df.append(\n"
     ]
    },
    {
     "name": "stdout",
     "output_type": "stream",
     "text": [
      "4.900.000 đ\n",
      "Đang cập nhật\n",
      "------\n"
     ]
    },
    {
     "name": "stderr",
     "output_type": "stream",
     "text": [
      "C:\\Users\\ACER\\AppData\\Local\\Temp/ipykernel_24008/457585659.py:76: FutureWarning: The frame.append method is deprecated and will be removed from pandas in a future version. Use pandas.concat instead.\n",
      "  df = df.append(\n"
     ]
    },
    {
     "name": "stdout",
     "output_type": "stream",
     "text": [
      "26.960.000 đ\n",
      "Mỹ\n",
      "------\n"
     ]
    },
    {
     "name": "stderr",
     "output_type": "stream",
     "text": [
      "C:\\Users\\ACER\\AppData\\Local\\Temp/ipykernel_24008/457585659.py:76: FutureWarning: The frame.append method is deprecated and will be removed from pandas in a future version. Use pandas.concat instead.\n",
      "  df = df.append(\n"
     ]
    },
    {
     "name": "stdout",
     "output_type": "stream",
     "text": [
      "7.960.000 đ\n",
      "Đang cập nhật\n",
      "------\n"
     ]
    },
    {
     "name": "stderr",
     "output_type": "stream",
     "text": [
      "C:\\Users\\ACER\\AppData\\Local\\Temp/ipykernel_24008/457585659.py:76: FutureWarning: The frame.append method is deprecated and will be removed from pandas in a future version. Use pandas.concat instead.\n",
      "  df = df.append(\n"
     ]
    },
    {
     "name": "stdout",
     "output_type": "stream",
     "text": [
      "2.500.000 đ\n",
      "Việt Nam\n",
      "------\n"
     ]
    },
    {
     "name": "stderr",
     "output_type": "stream",
     "text": [
      "C:\\Users\\ACER\\AppData\\Local\\Temp/ipykernel_24008/457585659.py:76: FutureWarning: The frame.append method is deprecated and will be removed from pandas in a future version. Use pandas.concat instead.\n",
      "  df = df.append(\n"
     ]
    },
    {
     "name": "stdout",
     "output_type": "stream",
     "text": [
      "12.200.000 đ\n",
      "Mỹ\n",
      "------\n"
     ]
    },
    {
     "name": "stderr",
     "output_type": "stream",
     "text": [
      "C:\\Users\\ACER\\AppData\\Local\\Temp/ipykernel_24008/457585659.py:76: FutureWarning: The frame.append method is deprecated and will be removed from pandas in a future version. Use pandas.concat instead.\n",
      "  df = df.append(\n"
     ]
    },
    {
     "name": "stdout",
     "output_type": "stream",
     "text": [
      "6.250.000 đ\n",
      "Mỹ\n",
      "------\n"
     ]
    },
    {
     "name": "stderr",
     "output_type": "stream",
     "text": [
      "C:\\Users\\ACER\\AppData\\Local\\Temp/ipykernel_24008/457585659.py:76: FutureWarning: The frame.append method is deprecated and will be removed from pandas in a future version. Use pandas.concat instead.\n",
      "  df = df.append(\n"
     ]
    },
    {
     "name": "stdout",
     "output_type": "stream",
     "text": [
      "6.500.000 đ\n",
      "Đang cập nhật\n",
      "------\n"
     ]
    },
    {
     "name": "stderr",
     "output_type": "stream",
     "text": [
      "C:\\Users\\ACER\\AppData\\Local\\Temp/ipykernel_24008/457585659.py:76: FutureWarning: The frame.append method is deprecated and will be removed from pandas in a future version. Use pandas.concat instead.\n",
      "  df = df.append(\n"
     ]
    },
    {
     "name": "stdout",
     "output_type": "stream",
     "text": [
      "5.650.000 đ\n",
      "Việt Nam\n",
      "------\n"
     ]
    },
    {
     "name": "stderr",
     "output_type": "stream",
     "text": [
      "C:\\Users\\ACER\\AppData\\Local\\Temp/ipykernel_24008/457585659.py:76: FutureWarning: The frame.append method is deprecated and will be removed from pandas in a future version. Use pandas.concat instead.\n",
      "  df = df.append(\n"
     ]
    },
    {
     "name": "stdout",
     "output_type": "stream",
     "text": [
      "999.000 đ\n",
      "Mỹ\n",
      "------\n"
     ]
    },
    {
     "name": "stderr",
     "output_type": "stream",
     "text": [
      "C:\\Users\\ACER\\AppData\\Local\\Temp/ipykernel_24008/457585659.py:76: FutureWarning: The frame.append method is deprecated and will be removed from pandas in a future version. Use pandas.concat instead.\n",
      "  df = df.append(\n"
     ]
    },
    {
     "name": "stdout",
     "output_type": "stream",
     "text": [
      "9.300.000 đ\n",
      "Đang cập nhật\n",
      "------\n"
     ]
    },
    {
     "name": "stderr",
     "output_type": "stream",
     "text": [
      "C:\\Users\\ACER\\AppData\\Local\\Temp/ipykernel_24008/457585659.py:76: FutureWarning: The frame.append method is deprecated and will be removed from pandas in a future version. Use pandas.concat instead.\n",
      "  df = df.append(\n"
     ]
    },
    {
     "name": "stdout",
     "output_type": "stream",
     "text": [
      "550.000 đ\n",
      "Đang cập nhật\n",
      "------\n"
     ]
    },
    {
     "name": "stderr",
     "output_type": "stream",
     "text": [
      "C:\\Users\\ACER\\AppData\\Local\\Temp/ipykernel_24008/457585659.py:76: FutureWarning: The frame.append method is deprecated and will be removed from pandas in a future version. Use pandas.concat instead.\n",
      "  df = df.append(\n"
     ]
    },
    {
     "name": "stdout",
     "output_type": "stream",
     "text": [
      "135.000.000 đ\n",
      "Đang cập nhật\n",
      "------\n"
     ]
    },
    {
     "name": "stderr",
     "output_type": "stream",
     "text": [
      "C:\\Users\\ACER\\AppData\\Local\\Temp/ipykernel_24008/457585659.py:76: FutureWarning: The frame.append method is deprecated and will be removed from pandas in a future version. Use pandas.concat instead.\n",
      "  df = df.append(\n"
     ]
    },
    {
     "name": "stdout",
     "output_type": "stream",
     "text": [
      "1.200.000 đ\n",
      "Việt Nam\n",
      "------\n"
     ]
    },
    {
     "name": "stderr",
     "output_type": "stream",
     "text": [
      "C:\\Users\\ACER\\AppData\\Local\\Temp/ipykernel_24008/457585659.py:76: FutureWarning: The frame.append method is deprecated and will be removed from pandas in a future version. Use pandas.concat instead.\n",
      "  df = df.append(\n"
     ]
    },
    {
     "name": "stdout",
     "output_type": "stream",
     "text": [
      "4.550.000 đ\n",
      "Đang cập nhật\n",
      "------\n"
     ]
    },
    {
     "name": "stderr",
     "output_type": "stream",
     "text": [
      "C:\\Users\\ACER\\AppData\\Local\\Temp/ipykernel_24008/457585659.py:76: FutureWarning: The frame.append method is deprecated and will be removed from pandas in a future version. Use pandas.concat instead.\n",
      "  df = df.append(\n"
     ]
    },
    {
     "name": "stdout",
     "output_type": "stream",
     "text": [
      "3.900.000 đ\n",
      "Đang cập nhật\n",
      "------\n"
     ]
    },
    {
     "name": "stderr",
     "output_type": "stream",
     "text": [
      "C:\\Users\\ACER\\AppData\\Local\\Temp/ipykernel_24008/457585659.py:76: FutureWarning: The frame.append method is deprecated and will be removed from pandas in a future version. Use pandas.concat instead.\n",
      "  df = df.append(\n"
     ]
    },
    {
     "name": "stdout",
     "output_type": "stream",
     "text": [
      "4.350.000 đ\n",
      "Mỹ\n",
      "------\n"
     ]
    },
    {
     "name": "stderr",
     "output_type": "stream",
     "text": [
      "C:\\Users\\ACER\\AppData\\Local\\Temp/ipykernel_24008/457585659.py:76: FutureWarning: The frame.append method is deprecated and will be removed from pandas in a future version. Use pandas.concat instead.\n",
      "  df = df.append(\n"
     ]
    },
    {
     "name": "stdout",
     "output_type": "stream",
     "text": [
      "9.499.000 đ\n",
      "Đang cập nhật\n",
      "------\n"
     ]
    },
    {
     "name": "stderr",
     "output_type": "stream",
     "text": [
      "C:\\Users\\ACER\\AppData\\Local\\Temp/ipykernel_24008/457585659.py:76: FutureWarning: The frame.append method is deprecated and will be removed from pandas in a future version. Use pandas.concat instead.\n",
      "  df = df.append(\n"
     ]
    },
    {
     "name": "stdout",
     "output_type": "stream",
     "text": [
      "9.500.000 đ\n",
      "Việt Nam\n",
      "------\n"
     ]
    },
    {
     "name": "stderr",
     "output_type": "stream",
     "text": [
      "C:\\Users\\ACER\\AppData\\Local\\Temp/ipykernel_24008/457585659.py:76: FutureWarning: The frame.append method is deprecated and will be removed from pandas in a future version. Use pandas.concat instead.\n",
      "  df = df.append(\n"
     ]
    },
    {
     "name": "stdout",
     "output_type": "stream",
     "text": [
      "4.800.000 đ\n",
      "Đang cập nhật\n",
      "------\n"
     ]
    },
    {
     "name": "stderr",
     "output_type": "stream",
     "text": [
      "C:\\Users\\ACER\\AppData\\Local\\Temp/ipykernel_24008/457585659.py:76: FutureWarning: The frame.append method is deprecated and will be removed from pandas in a future version. Use pandas.concat instead.\n",
      "  df = df.append(\n"
     ]
    },
    {
     "name": "stdout",
     "output_type": "stream",
     "text": [
      "8.490.000 đ\n",
      "Đang cập nhật\n",
      "------\n"
     ]
    },
    {
     "name": "stderr",
     "output_type": "stream",
     "text": [
      "C:\\Users\\ACER\\AppData\\Local\\Temp/ipykernel_24008/457585659.py:76: FutureWarning: The frame.append method is deprecated and will be removed from pandas in a future version. Use pandas.concat instead.\n",
      "  df = df.append(\n"
     ]
    },
    {
     "name": "stdout",
     "output_type": "stream",
     "text": [
      "1.899.999 đ\n",
      "Đang cập nhật\n",
      "------\n"
     ]
    },
    {
     "name": "stderr",
     "output_type": "stream",
     "text": [
      "C:\\Users\\ACER\\AppData\\Local\\Temp/ipykernel_24008/457585659.py:76: FutureWarning: The frame.append method is deprecated and will be removed from pandas in a future version. Use pandas.concat instead.\n",
      "  df = df.append(\n"
     ]
    },
    {
     "name": "stdout",
     "output_type": "stream",
     "text": [
      "12.499.999 đ\n",
      "Đang cập nhật\n",
      "------\n"
     ]
    },
    {
     "name": "stderr",
     "output_type": "stream",
     "text": [
      "C:\\Users\\ACER\\AppData\\Local\\Temp/ipykernel_24008/457585659.py:76: FutureWarning: The frame.append method is deprecated and will be removed from pandas in a future version. Use pandas.concat instead.\n",
      "  df = df.append(\n"
     ]
    },
    {
     "name": "stdout",
     "output_type": "stream",
     "text": [
      "1.450.000 đ\n",
      "Đang cập nhật\n",
      "------\n"
     ]
    },
    {
     "name": "stderr",
     "output_type": "stream",
     "text": [
      "C:\\Users\\ACER\\AppData\\Local\\Temp/ipykernel_24008/457585659.py:76: FutureWarning: The frame.append method is deprecated and will be removed from pandas in a future version. Use pandas.concat instead.\n",
      "  df = df.append(\n"
     ]
    },
    {
     "name": "stdout",
     "output_type": "stream",
     "text": [
      "7.680.000 đ\n",
      "Mỹ\n",
      "------\n"
     ]
    },
    {
     "name": "stderr",
     "output_type": "stream",
     "text": [
      "C:\\Users\\ACER\\AppData\\Local\\Temp/ipykernel_24008/457585659.py:76: FutureWarning: The frame.append method is deprecated and will be removed from pandas in a future version. Use pandas.concat instead.\n",
      "  df = df.append(\n"
     ]
    },
    {
     "name": "stdout",
     "output_type": "stream",
     "text": [
      "18.680.000 đ\n",
      "Mỹ\n",
      "------\n"
     ]
    },
    {
     "name": "stderr",
     "output_type": "stream",
     "text": [
      "C:\\Users\\ACER\\AppData\\Local\\Temp/ipykernel_24008/457585659.py:76: FutureWarning: The frame.append method is deprecated and will be removed from pandas in a future version. Use pandas.concat instead.\n",
      "  df = df.append(\n"
     ]
    },
    {
     "name": "stdout",
     "output_type": "stream",
     "text": [
      "5.555.555 đ\n",
      "Mỹ\n",
      "------\n"
     ]
    },
    {
     "name": "stderr",
     "output_type": "stream",
     "text": [
      "C:\\Users\\ACER\\AppData\\Local\\Temp/ipykernel_24008/457585659.py:76: FutureWarning: The frame.append method is deprecated and will be removed from pandas in a future version. Use pandas.concat instead.\n",
      "  df = df.append(\n"
     ]
    },
    {
     "name": "stdout",
     "output_type": "stream",
     "text": [
      "700.000 đ\n",
      "Việt Nam\n",
      "------\n"
     ]
    },
    {
     "name": "stderr",
     "output_type": "stream",
     "text": [
      "C:\\Users\\ACER\\AppData\\Local\\Temp/ipykernel_24008/457585659.py:76: FutureWarning: The frame.append method is deprecated and will be removed from pandas in a future version. Use pandas.concat instead.\n",
      "  df = df.append(\n"
     ]
    },
    {
     "name": "stdout",
     "output_type": "stream",
     "text": [
      "1.900.000 đ\n",
      "Đang cập nhật\n",
      "------\n"
     ]
    },
    {
     "name": "stderr",
     "output_type": "stream",
     "text": [
      "C:\\Users\\ACER\\AppData\\Local\\Temp/ipykernel_24008/457585659.py:76: FutureWarning: The frame.append method is deprecated and will be removed from pandas in a future version. Use pandas.concat instead.\n",
      "  df = df.append(\n"
     ]
    },
    {
     "name": "stdout",
     "output_type": "stream",
     "text": [
      "8.800.000 đ\n",
      "Mỹ\n",
      "------\n"
     ]
    },
    {
     "name": "stderr",
     "output_type": "stream",
     "text": [
      "C:\\Users\\ACER\\AppData\\Local\\Temp/ipykernel_24008/457585659.py:76: FutureWarning: The frame.append method is deprecated and will be removed from pandas in a future version. Use pandas.concat instead.\n",
      "  df = df.append(\n"
     ]
    },
    {
     "name": "stdout",
     "output_type": "stream",
     "text": [
      "12.850.000 đ\n",
      "Đang cập nhật\n",
      "------\n"
     ]
    }
   ],
   "source": [
    "from selenium import webdriver\n",
    "from selenium.webdriver.common.by import By\n",
    "import json\n",
    "\n",
    "with open(\"cleaned_dataK.json\", \"rb\") as fp:   # Unpickling\n",
    "    linkItem = json.load(fp)\n",
    "#datacleaning duplicate cleaning...\n",
    "import pandas as pd\n",
    "from selenium.webdriver.common.action_chains import ActionChains\n",
    "\n",
    "print(linkItem)\n",
    "df = pd.DataFrame(columns = \n",
    "    ['title', 'price', 'timeStamp', 'hang','dong','baohanh','mausac','dungluong','xuatxu', 'tinhtrang'])\n",
    "driver=webdriver.Chrome()\n",
    "\n",
    "one_time = True\n",
    "for link in linkItem:\n",
    "    \n",
    "    driver.get(link)\n",
    "    # button = driver.find_element(By.XPATH, '//*[@id=\"__next\"]/div/header/div[2]')\n",
    "    # button.click()\n",
    "    if one_time:\n",
    "        driver.implicitly_wait(3)\n",
    "        ac = ActionChains(driver)\n",
    "        ac.move_by_offset(100, 100).click().perform()\n",
    "        one_time = False\n",
    "    \n",
    "    try:\n",
    "        title = driver.find_element(By.XPATH, \"//h1[@class='AdDecription_adTitle__AG9r4' and @itemprop='name']\").text\n",
    "    except:\n",
    "        title = None\n",
    "\n",
    "    try:\n",
    "        price = driver.find_element(By.XPATH, \"//span[contains(@class, 'AdDecription_price__L2jjH')]/span[@itemprop='price']\").text\n",
    "        # price = [int(p.replace(' đ', '').replace('.', '')) for p in prices]\n",
    "    except:\n",
    "        price = None\n",
    "\n",
    "    \n",
    "    \n",
    "    \n",
    "    try:\n",
    "        hang = driver.find_element(By.XPATH, \"//a[@itemprop='mobile_brand' and contains(@class, 'AdParam_adParamValue__IfaYa')]\").text\n",
    "    except:\n",
    "        hang = None\n",
    "\n",
    "    try:\n",
    "        dong = driver.find_element(By.XPATH, \"//a[@itemprop='mobile_model' and contains(@class, 'AdParam_adParamValue__IfaYa')]\").text\n",
    "    except:\n",
    "        dong = None\n",
    "\n",
    "    try:\n",
    "        baohanh = driver.find_element(By.XPATH, \"//span[@itemprop='elt_warranty' and contains(@class, 'AdParam_adParamValue__IfaYa')]\").text\n",
    "    except:\n",
    "        baohanh = None\n",
    "    try:\n",
    "        mausac = driver.find_element(By.XPATH, \"//span[@itemprop='mobile_color' and contains(@class, 'AdParam_adParamValue__IfaYa')]\").text\n",
    "    except:\n",
    "        mausac= None\n",
    "\n",
    "    try:\n",
    "        dungluong = driver.find_element(By.XPATH, \"//span[@itemprop='mobile_capacity' and contains(@class, 'AdParam_adParamValue__IfaYa')]\").text\n",
    "    except:\n",
    "        dungluong = None\n",
    "\n",
    "    try:\n",
    "        xuatxu = driver.find_element(By.XPATH, \"//span[@itemprop='elt_origin' and contains(@class, 'AdParam_adParamValue__IfaYa')]\").text\n",
    "    except:\n",
    "        xuatXu = None\n",
    "\n",
    "    try:\n",
    "        tinhtrang = driver.find_element(By.XPATH, \"//span[@itemprop='elt_condition' and contains(@class, 'AdParam_adParamValue__IfaYa')]\").text\n",
    "    except:\n",
    "        tinhtrang = None\n",
    "\n",
    "    df = df.append(\n",
    "        {'title' : title, 'price' : price, 'hang' : hang,'dong' : dong ,'baohanh': baohanh,'mausac': mausac,'dungluong' : dungluong,'xuatxu' : xuatxu, 'tinhtrang' : tinhtrang},ignore_index = True)\n",
    "    df.to_csv('output13.csv', index=False, encoding='utf-8')  \n",
    "    print(price)\n",
    "    print(xuatxu)\n",
    "    print('------')"
   ]
  },
  {
   "cell_type": "code",
   "execution_count": 6,
   "metadata": {},
   "outputs": [
    {
     "ename": "AttributeError",
     "evalue": "'str' object has no attribute 'text'",
     "output_type": "error",
     "traceback": [
      "\u001b[1;31m---------------------------------------------------------------------------\u001b[0m",
      "\u001b[1;31mAttributeError\u001b[0m                            Traceback (most recent call last)",
      "Cell \u001b[1;32mIn[6], line 58\u001b[0m\n\u001b[0;32m     56\u001b[0m xuatxu \u001b[38;5;241m=\u001b[39m driver\u001b[38;5;241m.\u001b[39mfind_elements(By\u001b[38;5;241m.\u001b[39mXPATH, \u001b[38;5;124m\"\u001b[39m\u001b[38;5;124m//span[@itemprop=\u001b[39m\u001b[38;5;124m'\u001b[39m\u001b[38;5;124melt_origin\u001b[39m\u001b[38;5;124m'\u001b[39m\u001b[38;5;124m and contains(@class, \u001b[39m\u001b[38;5;124m'\u001b[39m\u001b[38;5;124mAdParam_adParamValue__IfaYa\u001b[39m\u001b[38;5;124m'\u001b[39m\u001b[38;5;124m)]\u001b[39m\u001b[38;5;124m\"\u001b[39m)\n\u001b[0;32m     57\u001b[0m \u001b[38;5;28;01mfor\u001b[39;00m goc \u001b[38;5;129;01min\u001b[39;00m xuatxu:\n\u001b[1;32m---> 58\u001b[0m     xuatxu\u001b[38;5;241m.\u001b[39mappend(\u001b[43mgoc\u001b[49m\u001b[38;5;241;43m.\u001b[39;49m\u001b[43mtext\u001b[49m)      \n\u001b[0;32m     60\u001b[0m \u001b[38;5;66;03m# tình trạng\u001b[39;00m\n\u001b[0;32m     61\u001b[0m status \u001b[38;5;241m=\u001b[39m driver\u001b[38;5;241m.\u001b[39mfind_elements(By\u001b[38;5;241m.\u001b[39mXPATH, \u001b[38;5;124m\"\u001b[39m\u001b[38;5;124m//span[@itemprop=\u001b[39m\u001b[38;5;124m'\u001b[39m\u001b[38;5;124melt_condition\u001b[39m\u001b[38;5;124m'\u001b[39m\u001b[38;5;124m and contains(@class, \u001b[39m\u001b[38;5;124m'\u001b[39m\u001b[38;5;124mAdParam_adParamValue__IfaYa\u001b[39m\u001b[38;5;124m'\u001b[39m\u001b[38;5;124m)]\u001b[39m\u001b[38;5;124m\"\u001b[39m)\n",
      "\u001b[1;31mAttributeError\u001b[0m: 'str' object has no attribute 'text'"
     ]
    }
   ],
   "source": [
    "with open(\"cleaned_data.json\", \"rb\") as fp:   # Unpickling\n",
    "    linkItem = json.load(fp)\n",
    "#datacleaning duplicate cleaning...\n",
    "\n",
    "#'title', 'price', 'timeStamp', 'hang','dong','baohanh','mausac','dungluong','xuatxu', 'tinhtrang'\n",
    "title = []\n",
    "price = []\n",
    "timeStamp = []\n",
    "hang= []\n",
    "dong = []\n",
    "baohanh=  []\n",
    "mausac = []\n",
    "dungluong = []\n",
    "xuatxu = []\n",
    "tinhtrang = []\n",
    "\n",
    "for link in linkItem:\n",
    "    driver.get(link)\n",
    "    \n",
    "    # Title\n",
    "    titles = driver.find_elements(By.XPATH, \"//h1[@class='AdDecription_adTitle__AG9r4' and @itemprop='name']\")\n",
    "    for til in titles:\n",
    "        title.append(til.text)\n",
    "\n",
    "    # Price\n",
    "    prices = driver.find_elements(By.XPATH, \"//span[contains(@class, 'AdDecription_price__L2jjH')]/span[@itemprop='price']\")\n",
    "    for pri in prices:\n",
    "        price.append(pri.text)\n",
    "    cleaned_prices = [int(p.replace(' đ', '').replace('.', '')) for p in price]\n",
    "    \n",
    "\n",
    "    #timeStamp.append(driver.find_elements(By.XPATH, \"//span[contains(@itemprop, 'name')]\").text)\n",
    "    #'title', 'price', 'timeStamp', 'hang','dong','baohanh','mausac','dungluong','xuatxu', 'tinhtrang'\n",
    "\n",
    "    # Hãng đt\n",
    "    hang = driver.find_elements(By.XPATH, \"//a[@itemprop='mobile_brand' and contains(@class, 'AdParam_adParamValue__IfaYa')]\")\n",
    "    for ha in hang:\n",
    "        hang.append(ha.text)\n",
    "\n",
    "    # Dòng máy\n",
    "    dongs = driver.find_elements(By.XPATH, \"//a[@itemprop='moobile_model' and contains(@class, 'AdParam_adParamValue__IfaYa')]\")\n",
    "    for do in dongs:\n",
    "        dong.append(do.text)    \n",
    "\n",
    "    # Màu\n",
    "    color = driver.find_elements(By.XPATH, \"//span[@itemprop='mobile_color' and contains(@class, 'AdParam_adParamValue__IfaYa')]\")\n",
    "    for mau in color:\n",
    "        mausac.append(mau.text)      \n",
    "\n",
    "    # Dung Lượng\n",
    "    capacity = driver.find_elements(By.XPATH, \"//span[@itemprop='mobile_capacity' and contains(@class, 'AdParam_adParamValue__IfaYa')]\")\n",
    "    for rom in capacity:\n",
    "        dungluong.append(rom.text)  \n",
    "\n",
    "    # xuất xứ\n",
    "    xuatxu = driver.find_elements(By.XPATH, \"//span[@itemprop='elt_origin' and contains(@class, 'AdParam_adParamValue__IfaYa')]\")\n",
    "    for goc in xuatxu:\n",
    "        xuatxu.append(goc.text)      \n",
    "\n",
    "    # tình trạng\n",
    "    status = driver.find_elements(By.XPATH, \"//span[@itemprop='elt_condition' and contains(@class, 'AdParam_adParamValue__IfaYa')]\")\n",
    "    for sta in status:\n",
    "        tinhtrang.append(sta.text)  "
   ]
  },
  {
   "cell_type": "code",
   "execution_count": null,
   "metadata": {},
   "outputs": [
    {
     "name": "stdout",
     "output_type": "stream",
     "text": [
      "25\n",
      "25\n",
      "25\n",
      "25\n",
      "25\n",
      "25\n",
      "25\n",
      "25\n",
      "12\n",
      "25\n",
      "13\n"
     ]
    }
   ],
   "source": [
    "print(len(title))\n",
    "print(len(cleaned_prices))\n",
    "print(len(hang))\n",
    "print(len(dong))\n",
    "print(len(baohanh))\n",
    "print(len(mausac))\n",
    "print(len(dungluong))\n",
    "print(len(xuatxu))\n",
    "print(len(tinhtrang))\n",
    " #'title', 'price', 'timeStamp', 'hang','dong','baohanh','mausac','dungluong','xuatxu', 'tinhtrang'"
   ]
  },
  {
   "cell_type": "code",
   "execution_count": null,
   "metadata": {},
   "outputs": [
    {
     "data": {
      "text/plain": [
       "['100 - 175 cc',\n",
       " '100 - 175 cc',\n",
       " '100 - 175 cc',\n",
       " '100 - 175 cc',\n",
       " '100 - 175 cc',\n",
       " '100 - 175 cc',\n",
       " '100 - 175 cc',\n",
       " '100 - 175 cc',\n",
       " 'Dưới 50 cc',\n",
       " '100 - 175 cc',\n",
       " '100 - 175 cc',\n",
       " '100 - 175 cc']"
      ]
     },
     "execution_count": 10,
     "metadata": {},
     "output_type": "execute_result"
    }
   ],
   "source": [
    "dungluong"
   ]
  },
  {
   "cell_type": "code",
   "execution_count": null,
   "metadata": {},
   "outputs": [
    {
     "ename": "ValueError",
     "evalue": "All arrays must be of the same length",
     "output_type": "error",
     "traceback": [
      "\u001b[1;31m---------------------------------------------------------------------------\u001b[0m",
      "\u001b[1;31mValueError\u001b[0m                                Traceback (most recent call last)",
      "\u001b[1;32m~\\AppData\\Local\\Temp/ipykernel_18180/3779261157.py\u001b[0m in \u001b[0;36m<module>\u001b[1;34m\u001b[0m\n\u001b[0;32m     21\u001b[0m \u001b[1;33m\u001b[0m\u001b[0m\n\u001b[0;32m     22\u001b[0m \u001b[1;31m# Convert the dictionary to a Pandas DataFrame\u001b[0m\u001b[1;33m\u001b[0m\u001b[1;33m\u001b[0m\u001b[0m\n\u001b[1;32m---> 23\u001b[1;33m \u001b[0mdf\u001b[0m \u001b[1;33m=\u001b[0m \u001b[0mpd\u001b[0m\u001b[1;33m.\u001b[0m\u001b[0mDataFrame\u001b[0m\u001b[1;33m(\u001b[0m\u001b[0mdata\u001b[0m\u001b[1;33m)\u001b[0m\u001b[1;33m\u001b[0m\u001b[1;33m\u001b[0m\u001b[0m\n\u001b[0m\u001b[0;32m     24\u001b[0m \u001b[1;33m\u001b[0m\u001b[0m\n\u001b[0;32m     25\u001b[0m \u001b[1;31m# Display the DataFrame\u001b[0m\u001b[1;33m\u001b[0m\u001b[1;33m\u001b[0m\u001b[0m\n",
      "\u001b[1;32mc:\\Users\\ACER\\anaconda3\\lib\\site-packages\\pandas\\core\\frame.py\u001b[0m in \u001b[0;36m__init__\u001b[1;34m(self, data, index, columns, dtype, copy)\u001b[0m\n\u001b[0;32m    634\u001b[0m         \u001b[1;32melif\u001b[0m \u001b[0misinstance\u001b[0m\u001b[1;33m(\u001b[0m\u001b[0mdata\u001b[0m\u001b[1;33m,\u001b[0m \u001b[0mdict\u001b[0m\u001b[1;33m)\u001b[0m\u001b[1;33m:\u001b[0m\u001b[1;33m\u001b[0m\u001b[1;33m\u001b[0m\u001b[0m\n\u001b[0;32m    635\u001b[0m             \u001b[1;31m# GH#38939 de facto copy defaults to False only in non-dict cases\u001b[0m\u001b[1;33m\u001b[0m\u001b[1;33m\u001b[0m\u001b[0m\n\u001b[1;32m--> 636\u001b[1;33m             \u001b[0mmgr\u001b[0m \u001b[1;33m=\u001b[0m \u001b[0mdict_to_mgr\u001b[0m\u001b[1;33m(\u001b[0m\u001b[0mdata\u001b[0m\u001b[1;33m,\u001b[0m \u001b[0mindex\u001b[0m\u001b[1;33m,\u001b[0m \u001b[0mcolumns\u001b[0m\u001b[1;33m,\u001b[0m \u001b[0mdtype\u001b[0m\u001b[1;33m=\u001b[0m\u001b[0mdtype\u001b[0m\u001b[1;33m,\u001b[0m \u001b[0mcopy\u001b[0m\u001b[1;33m=\u001b[0m\u001b[0mcopy\u001b[0m\u001b[1;33m,\u001b[0m \u001b[0mtyp\u001b[0m\u001b[1;33m=\u001b[0m\u001b[0mmanager\u001b[0m\u001b[1;33m)\u001b[0m\u001b[1;33m\u001b[0m\u001b[1;33m\u001b[0m\u001b[0m\n\u001b[0m\u001b[0;32m    637\u001b[0m         \u001b[1;32melif\u001b[0m \u001b[0misinstance\u001b[0m\u001b[1;33m(\u001b[0m\u001b[0mdata\u001b[0m\u001b[1;33m,\u001b[0m \u001b[0mma\u001b[0m\u001b[1;33m.\u001b[0m\u001b[0mMaskedArray\u001b[0m\u001b[1;33m)\u001b[0m\u001b[1;33m:\u001b[0m\u001b[1;33m\u001b[0m\u001b[1;33m\u001b[0m\u001b[0m\n\u001b[0;32m    638\u001b[0m             \u001b[1;32mimport\u001b[0m \u001b[0mnumpy\u001b[0m\u001b[1;33m.\u001b[0m\u001b[0mma\u001b[0m\u001b[1;33m.\u001b[0m\u001b[0mmrecords\u001b[0m \u001b[1;32mas\u001b[0m \u001b[0mmrecords\u001b[0m\u001b[1;33m\u001b[0m\u001b[1;33m\u001b[0m\u001b[0m\n",
      "\u001b[1;32mc:\\Users\\ACER\\anaconda3\\lib\\site-packages\\pandas\\core\\internals\\construction.py\u001b[0m in \u001b[0;36mdict_to_mgr\u001b[1;34m(data, index, columns, dtype, typ, copy)\u001b[0m\n\u001b[0;32m    500\u001b[0m         \u001b[1;31m# TODO: can we get rid of the dt64tz special case above?\u001b[0m\u001b[1;33m\u001b[0m\u001b[1;33m\u001b[0m\u001b[0m\n\u001b[0;32m    501\u001b[0m \u001b[1;33m\u001b[0m\u001b[0m\n\u001b[1;32m--> 502\u001b[1;33m     \u001b[1;32mreturn\u001b[0m \u001b[0marrays_to_mgr\u001b[0m\u001b[1;33m(\u001b[0m\u001b[0marrays\u001b[0m\u001b[1;33m,\u001b[0m \u001b[0mcolumns\u001b[0m\u001b[1;33m,\u001b[0m \u001b[0mindex\u001b[0m\u001b[1;33m,\u001b[0m \u001b[0mdtype\u001b[0m\u001b[1;33m=\u001b[0m\u001b[0mdtype\u001b[0m\u001b[1;33m,\u001b[0m \u001b[0mtyp\u001b[0m\u001b[1;33m=\u001b[0m\u001b[0mtyp\u001b[0m\u001b[1;33m,\u001b[0m \u001b[0mconsolidate\u001b[0m\u001b[1;33m=\u001b[0m\u001b[0mcopy\u001b[0m\u001b[1;33m)\u001b[0m\u001b[1;33m\u001b[0m\u001b[1;33m\u001b[0m\u001b[0m\n\u001b[0m\u001b[0;32m    503\u001b[0m \u001b[1;33m\u001b[0m\u001b[0m\n\u001b[0;32m    504\u001b[0m \u001b[1;33m\u001b[0m\u001b[0m\n",
      "\u001b[1;32mc:\\Users\\ACER\\anaconda3\\lib\\site-packages\\pandas\\core\\internals\\construction.py\u001b[0m in \u001b[0;36marrays_to_mgr\u001b[1;34m(arrays, columns, index, dtype, verify_integrity, typ, consolidate)\u001b[0m\n\u001b[0;32m    118\u001b[0m         \u001b[1;31m# figure out the index, if necessary\u001b[0m\u001b[1;33m\u001b[0m\u001b[1;33m\u001b[0m\u001b[0m\n\u001b[0;32m    119\u001b[0m         \u001b[1;32mif\u001b[0m \u001b[0mindex\u001b[0m \u001b[1;32mis\u001b[0m \u001b[1;32mNone\u001b[0m\u001b[1;33m:\u001b[0m\u001b[1;33m\u001b[0m\u001b[1;33m\u001b[0m\u001b[0m\n\u001b[1;32m--> 120\u001b[1;33m             \u001b[0mindex\u001b[0m \u001b[1;33m=\u001b[0m \u001b[0m_extract_index\u001b[0m\u001b[1;33m(\u001b[0m\u001b[0marrays\u001b[0m\u001b[1;33m)\u001b[0m\u001b[1;33m\u001b[0m\u001b[1;33m\u001b[0m\u001b[0m\n\u001b[0m\u001b[0;32m    121\u001b[0m         \u001b[1;32melse\u001b[0m\u001b[1;33m:\u001b[0m\u001b[1;33m\u001b[0m\u001b[1;33m\u001b[0m\u001b[0m\n\u001b[0;32m    122\u001b[0m             \u001b[0mindex\u001b[0m \u001b[1;33m=\u001b[0m \u001b[0mensure_index\u001b[0m\u001b[1;33m(\u001b[0m\u001b[0mindex\u001b[0m\u001b[1;33m)\u001b[0m\u001b[1;33m\u001b[0m\u001b[1;33m\u001b[0m\u001b[0m\n",
      "\u001b[1;32mc:\\Users\\ACER\\anaconda3\\lib\\site-packages\\pandas\\core\\internals\\construction.py\u001b[0m in \u001b[0;36m_extract_index\u001b[1;34m(data)\u001b[0m\n\u001b[0;32m    672\u001b[0m             \u001b[0mlengths\u001b[0m \u001b[1;33m=\u001b[0m \u001b[0mlist\u001b[0m\u001b[1;33m(\u001b[0m\u001b[0mset\u001b[0m\u001b[1;33m(\u001b[0m\u001b[0mraw_lengths\u001b[0m\u001b[1;33m)\u001b[0m\u001b[1;33m)\u001b[0m\u001b[1;33m\u001b[0m\u001b[1;33m\u001b[0m\u001b[0m\n\u001b[0;32m    673\u001b[0m             \u001b[1;32mif\u001b[0m \u001b[0mlen\u001b[0m\u001b[1;33m(\u001b[0m\u001b[0mlengths\u001b[0m\u001b[1;33m)\u001b[0m \u001b[1;33m>\u001b[0m \u001b[1;36m1\u001b[0m\u001b[1;33m:\u001b[0m\u001b[1;33m\u001b[0m\u001b[1;33m\u001b[0m\u001b[0m\n\u001b[1;32m--> 674\u001b[1;33m                 \u001b[1;32mraise\u001b[0m \u001b[0mValueError\u001b[0m\u001b[1;33m(\u001b[0m\u001b[1;34m\"All arrays must be of the same length\"\u001b[0m\u001b[1;33m)\u001b[0m\u001b[1;33m\u001b[0m\u001b[1;33m\u001b[0m\u001b[0m\n\u001b[0m\u001b[0;32m    675\u001b[0m \u001b[1;33m\u001b[0m\u001b[0m\n\u001b[0;32m    676\u001b[0m             \u001b[1;32mif\u001b[0m \u001b[0mhave_dicts\u001b[0m\u001b[1;33m:\u001b[0m\u001b[1;33m\u001b[0m\u001b[1;33m\u001b[0m\u001b[0m\n",
      "\u001b[1;31mValueError\u001b[0m: All arrays must be of the same length"
     ]
    }
   ],
   "source": [
    "import pandas as pd\n",
    " #'title', 'price', 'timeStamp', 'hang','dong','baohanh','mausac','dungluong','xuatxu', 'tinhtrang'\n",
    "\n",
    "# Create a dictionary with lists as values\n",
    "data = {\n",
    "    'Title': title,\n",
    "    'Giá': cleaned_prices,\n",
    "    'Hãng': hang,\n",
    "    'Dòng máy': dong,\n",
    "    'Bảo Hành': baohanh,\n",
    "    'Màu sắc': mausac,\n",
    "    'Dung lượng': dungluong,\n",
    "    'Xuất xứ': xuatxu,\n",
    "    'Tình trạng': tinhtrang,\n",
    "    # Add other keys and corresponding lists\n",
    "}\n",
    "\n",
    "# Convert the dictionary to a Pandas DataFrame\n",
    "df = pd.DataFrame(data)\n",
    "# Display the DataFrame\n",
    "print(df)"
   ]
  }
 ],
 "metadata": {
  "kernelspec": {
   "display_name": "base",
   "language": "python",
   "name": "python3"
  },
  "language_info": {
   "codemirror_mode": {
    "name": "ipython",
    "version": 3
   },
   "file_extension": ".py",
   "mimetype": "text/x-python",
   "name": "python",
   "nbconvert_exporter": "python",
   "pygments_lexer": "ipython3",
   "version": "3.9.7"
  }
 },
 "nbformat": 4,
 "nbformat_minor": 2
}
